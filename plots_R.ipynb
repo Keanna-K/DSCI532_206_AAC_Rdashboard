{
 "cells": [
  {
   "cell_type": "code",
   "execution_count": 1,
   "metadata": {},
   "outputs": [
    {
     "name": "stderr",
     "output_type": "stream",
     "text": [
      "\n",
      "********************************************************\n",
      "\n",
      "Note: As of version 1.0.0, cowplot does not change the\n",
      "\n",
      "  default ggplot2 theme anymore. To recover the previous\n",
      "\n",
      "  behavior, execute:\n",
      "  theme_set(theme_cowplot())\n",
      "\n",
      "********************************************************\n",
      "\n",
      "\n",
      "\n",
      "Attaching package: 'ggridges'\n",
      "\n",
      "\n",
      "The following object is masked from 'package:ggplot2':\n",
      "\n",
      "    scale_discrete_manual\n",
      "\n",
      "\n",
      "\n",
      "Attaching package: 'scales'\n",
      "\n",
      "\n",
      "The following object is masked from 'package:purrr':\n",
      "\n",
      "    discard\n",
      "\n",
      "\n",
      "The following object is masked from 'package:readr':\n",
      "\n",
      "    col_factor\n",
      "\n",
      "\n"
     ]
    }
   ],
   "source": [
    "options(tidyverse.quiet = TRUE,\n",
    "        repr.plot.width = 8,\n",
    "        repr.plot.height = 5)\n",
    "\n",
    "library(\"tidyverse\")\n",
    "library(\"cowplot\")\n",
    "library(\"gapminder\")\n",
    "library(\"ggridges\") \n",
    "library(\"scales\")"
   ]
  },
  {
   "cell_type": "code",
   "execution_count": 3,
   "metadata": {},
   "outputs": [
    {
     "name": "stderr",
     "output_type": "stream",
     "text": [
      "Parsed with column specification:\n",
      "cols(\n",
      "  animal_type = \u001b[31mcol_character()\u001b[39m,\n",
      "  intake_monthyear = \u001b[34mcol_datetime(format = \"\")\u001b[39m,\n",
      "  intake_weekday = \u001b[31mcol_character()\u001b[39m,\n",
      "  `age_upon_intake_(days)` = \u001b[32mcol_double()\u001b[39m,\n",
      "  intake_condition = \u001b[31mcol_character()\u001b[39m,\n",
      "  outcome_monthyear = \u001b[34mcol_datetime(format = \"\")\u001b[39m,\n",
      "  outcome_weekday = \u001b[31mcol_character()\u001b[39m,\n",
      "  `age_upon_outcome_(days)` = \u001b[32mcol_double()\u001b[39m,\n",
      "  total_time_in_shelter_days = \u001b[32mcol_double()\u001b[39m,\n",
      "  outcome_types = \u001b[31mcol_character()\u001b[39m,\n",
      "  intake_year = \u001b[32mcol_double()\u001b[39m,\n",
      "  outtake_year = \u001b[32mcol_double()\u001b[39m,\n",
      "  intake_month = \u001b[32mcol_double()\u001b[39m,\n",
      "  outtake_month = \u001b[32mcol_double()\u001b[39m\n",
      ")\n",
      "\n"
     ]
    }
   ],
   "source": [
    "data <- read_csv(\"./data/aac_data_cleaned.csv\")"
   ]
  },
  {
   "cell_type": "code",
   "execution_count": 4,
   "metadata": {},
   "outputs": [
    {
     "data": {
      "text/html": [
       "<table>\n",
       "<caption>A tibble: 6 × 14</caption>\n",
       "<thead>\n",
       "\t<tr><th scope=col>animal_type</th><th scope=col>intake_monthyear</th><th scope=col>intake_weekday</th><th scope=col>age_upon_intake_(days)</th><th scope=col>intake_condition</th><th scope=col>outcome_monthyear</th><th scope=col>outcome_weekday</th><th scope=col>age_upon_outcome_(days)</th><th scope=col>total_time_in_shelter_days</th><th scope=col>outcome_types</th><th scope=col>intake_year</th><th scope=col>outtake_year</th><th scope=col>intake_month</th><th scope=col>outtake_month</th></tr>\n",
       "\t<tr><th scope=col>&lt;chr&gt;</th><th scope=col>&lt;dttm&gt;</th><th scope=col>&lt;chr&gt;</th><th scope=col>&lt;dbl&gt;</th><th scope=col>&lt;chr&gt;</th><th scope=col>&lt;dttm&gt;</th><th scope=col>&lt;chr&gt;</th><th scope=col>&lt;dbl&gt;</th><th scope=col>&lt;dbl&gt;</th><th scope=col>&lt;chr&gt;</th><th scope=col>&lt;dbl&gt;</th><th scope=col>&lt;dbl&gt;</th><th scope=col>&lt;dbl&gt;</th><th scope=col>&lt;dbl&gt;</th></tr>\n",
       "</thead>\n",
       "<tbody>\n",
       "\t<tr><td>Dog</td><td>2017-12-01</td><td>Thursday </td><td>3650</td><td>Normal </td><td>2017-12-01</td><td>Thursday</td><td>3650</td><td>2.9618056</td><td>Return to Owner</td><td>2017</td><td>2017</td><td>12</td><td>12</td></tr>\n",
       "\t<tr><td>Dog</td><td>2014-04-01</td><td>Wednesday</td><td>3650</td><td>Normal </td><td>2014-04-01</td><td>Monday  </td><td>3650</td><td>4.9701389</td><td>Transfer       </td><td>2014</td><td>2014</td><td> 4</td><td> 4</td></tr>\n",
       "\t<tr><td>Dog</td><td>2013-11-01</td><td>Saturday </td><td>5840</td><td>Injured</td><td>2013-11-01</td><td>Saturday</td><td>5840</td><td>0.1194444</td><td>Return to Owner</td><td>2013</td><td>2013</td><td>11</td><td>11</td></tr>\n",
       "\t<tr><td>Dog</td><td>2013-11-01</td><td>Saturday </td><td>5475</td><td>Aged   </td><td>2013-11-01</td><td>Sunday  </td><td>5475</td><td>0.8708333</td><td>Return to Owner</td><td>2013</td><td>2013</td><td>11</td><td>11</td></tr>\n",
       "\t<tr><td>Dog</td><td>2014-11-01</td><td>Friday   </td><td>5475</td><td>Normal </td><td>2014-11-01</td><td>Friday  </td><td>5475</td><td>0.1784722</td><td>Return to Owner</td><td>2014</td><td>2014</td><td>11</td><td>11</td></tr>\n",
       "\t<tr><td>Dog</td><td>2014-09-01</td><td>Monday   </td><td>5475</td><td>Normal </td><td>2014-09-01</td><td>Monday  </td><td>5475</td><td>0.2131944</td><td>Return to Owner</td><td>2014</td><td>2014</td><td> 9</td><td> 9</td></tr>\n",
       "</tbody>\n",
       "</table>\n"
      ],
      "text/latex": [
       "A tibble: 6 × 14\n",
       "\\begin{tabular}{r|llllllllllllll}\n",
       " animal\\_type & intake\\_monthyear & intake\\_weekday & age\\_upon\\_intake\\_(days) & intake\\_condition & outcome\\_monthyear & outcome\\_weekday & age\\_upon\\_outcome\\_(days) & total\\_time\\_in\\_shelter\\_days & outcome\\_types & intake\\_year & outtake\\_year & intake\\_month & outtake\\_month\\\\\n",
       " <chr> & <dttm> & <chr> & <dbl> & <chr> & <dttm> & <chr> & <dbl> & <dbl> & <chr> & <dbl> & <dbl> & <dbl> & <dbl>\\\\\n",
       "\\hline\n",
       "\t Dog & 2017-12-01 & Thursday  & 3650 & Normal  & 2017-12-01 & Thursday & 3650 & 2.9618056 & Return to Owner & 2017 & 2017 & 12 & 12\\\\\n",
       "\t Dog & 2014-04-01 & Wednesday & 3650 & Normal  & 2014-04-01 & Monday   & 3650 & 4.9701389 & Transfer        & 2014 & 2014 &  4 &  4\\\\\n",
       "\t Dog & 2013-11-01 & Saturday  & 5840 & Injured & 2013-11-01 & Saturday & 5840 & 0.1194444 & Return to Owner & 2013 & 2013 & 11 & 11\\\\\n",
       "\t Dog & 2013-11-01 & Saturday  & 5475 & Aged    & 2013-11-01 & Sunday   & 5475 & 0.8708333 & Return to Owner & 2013 & 2013 & 11 & 11\\\\\n",
       "\t Dog & 2014-11-01 & Friday    & 5475 & Normal  & 2014-11-01 & Friday   & 5475 & 0.1784722 & Return to Owner & 2014 & 2014 & 11 & 11\\\\\n",
       "\t Dog & 2014-09-01 & Monday    & 5475 & Normal  & 2014-09-01 & Monday   & 5475 & 0.2131944 & Return to Owner & 2014 & 2014 &  9 &  9\\\\\n",
       "\\end{tabular}\n"
      ],
      "text/markdown": [
       "\n",
       "A tibble: 6 × 14\n",
       "\n",
       "| animal_type &lt;chr&gt; | intake_monthyear &lt;dttm&gt; | intake_weekday &lt;chr&gt; | age_upon_intake_(days) &lt;dbl&gt; | intake_condition &lt;chr&gt; | outcome_monthyear &lt;dttm&gt; | outcome_weekday &lt;chr&gt; | age_upon_outcome_(days) &lt;dbl&gt; | total_time_in_shelter_days &lt;dbl&gt; | outcome_types &lt;chr&gt; | intake_year &lt;dbl&gt; | outtake_year &lt;dbl&gt; | intake_month &lt;dbl&gt; | outtake_month &lt;dbl&gt; |\n",
       "|---|---|---|---|---|---|---|---|---|---|---|---|---|---|\n",
       "| Dog | 2017-12-01 | Thursday  | 3650 | Normal  | 2017-12-01 | Thursday | 3650 | 2.9618056 | Return to Owner | 2017 | 2017 | 12 | 12 |\n",
       "| Dog | 2014-04-01 | Wednesday | 3650 | Normal  | 2014-04-01 | Monday   | 3650 | 4.9701389 | Transfer        | 2014 | 2014 |  4 |  4 |\n",
       "| Dog | 2013-11-01 | Saturday  | 5840 | Injured | 2013-11-01 | Saturday | 5840 | 0.1194444 | Return to Owner | 2013 | 2013 | 11 | 11 |\n",
       "| Dog | 2013-11-01 | Saturday  | 5475 | Aged    | 2013-11-01 | Sunday   | 5475 | 0.8708333 | Return to Owner | 2013 | 2013 | 11 | 11 |\n",
       "| Dog | 2014-11-01 | Friday    | 5475 | Normal  | 2014-11-01 | Friday   | 5475 | 0.1784722 | Return to Owner | 2014 | 2014 | 11 | 11 |\n",
       "| Dog | 2014-09-01 | Monday    | 5475 | Normal  | 2014-09-01 | Monday   | 5475 | 0.2131944 | Return to Owner | 2014 | 2014 |  9 |  9 |\n",
       "\n"
      ],
      "text/plain": [
       "  animal_type intake_monthyear intake_weekday age_upon_intake_(days)\n",
       "1 Dog         2017-12-01       Thursday       3650                  \n",
       "2 Dog         2014-04-01       Wednesday      3650                  \n",
       "3 Dog         2013-11-01       Saturday       5840                  \n",
       "4 Dog         2013-11-01       Saturday       5475                  \n",
       "5 Dog         2014-11-01       Friday         5475                  \n",
       "6 Dog         2014-09-01       Monday         5475                  \n",
       "  intake_condition outcome_monthyear outcome_weekday age_upon_outcome_(days)\n",
       "1 Normal           2017-12-01        Thursday        3650                   \n",
       "2 Normal           2014-04-01        Monday          3650                   \n",
       "3 Injured          2013-11-01        Saturday        5840                   \n",
       "4 Aged             2013-11-01        Sunday          5475                   \n",
       "5 Normal           2014-11-01        Friday          5475                   \n",
       "6 Normal           2014-09-01        Monday          5475                   \n",
       "  total_time_in_shelter_days outcome_types   intake_year outtake_year\n",
       "1 2.9618056                  Return to Owner 2017        2017        \n",
       "2 4.9701389                  Transfer        2014        2014        \n",
       "3 0.1194444                  Return to Owner 2013        2013        \n",
       "4 0.8708333                  Return to Owner 2013        2013        \n",
       "5 0.1784722                  Return to Owner 2014        2014        \n",
       "6 0.2131944                  Return to Owner 2014        2014        \n",
       "  intake_month outtake_month\n",
       "1 12           12           \n",
       "2  4            4           \n",
       "3 11           11           \n",
       "4 11           11           \n",
       "5 11           11           \n",
       "6  9            9           "
      ]
     },
     "metadata": {},
     "output_type": "display_data"
    }
   ],
   "source": [
    "head(data)"
   ]
  },
  {
   "cell_type": "code",
   "execution_count": 52,
   "metadata": {},
   "outputs": [],
   "source": [
    "data_2017_intake <- data %>%\n",
    "    filter(intake_year == 2017) %>%\n",
    "    group_by(intake_year,animal_type,intake_weekday,intake_month) %>%\n",
    "    summarise(cnt = n()) %>%\n",
    "    group_by(intake_weekday) %>%\n",
    "    summarise(count = round(mean(cnt),0))"
   ]
  },
  {
   "cell_type": "code",
   "execution_count": 53,
   "metadata": {},
   "outputs": [],
   "source": [
    "data_2017_intake$intake_weekday <- factor(data_2017_intake$intake_weekday,levels = c(\"Sunday\",\"Monday\",\"Tuesday\",\"Wednesday\",\"Thursday\",\"Friday\", \"Saturday\"))"
   ]
  },
  {
   "cell_type": "code",
   "execution_count": 54,
   "metadata": {},
   "outputs": [
    {
     "data": {
      "image/png": "[encoded data removed]",
      "text/plain": [
       "plot without title"
      ]
     },
     "metadata": {
      "image/png": {
       "height": 360,
       "width": 480
      },
      "text/plain": {
       "height": 360,
       "width": 480
      }
     },
     "output_type": "display_data"
    }
   ],
   "source": [
    "options(repr.plot.width=8,repr.plot.height=6)\n",
    "p <- ggplot(data_2017_intake, aes(y=count, x=intake_weekday)) + \n",
    "    geom_bar(position=\"dodge\", stat=\"identity\", fill=\"dodgerblue3\") +\n",
    "    labs(title = \"Average Animal Intake by Week Day\", x = \"Week day\") +\n",
    "    theme(plot.title = element_text(size = 20, face = \"bold\",hjust = 0.5),\n",
    "         axis.text.x = element_text(size = 12, angle = 45),\n",
    "         axis.title.x = element_text(size = 20),\n",
    "         axis.title.y = element_text(size = 20),\n",
    "         axis.text.y = element_text(size = 14),\n",
    "         panel.background = element_blank()) \n",
    "        \n",
    "p"
   ]
  },
  {
   "cell_type": "code",
   "execution_count": 56,
   "metadata": {},
   "outputs": [],
   "source": [
    "data_2017_outtake <- data %>%\n",
    "    filter(outtake_year == 2017) %>%\n",
    "    group_by(outtake_year,animal_type,outcome_weekday,outtake_month) %>%\n",
    "    summarise(cnt = n()) %>%\n",
    "    group_by(outcome_weekday) %>%\n",
    "    summarise(count = round(mean(cnt),0))"
   ]
  },
  {
   "cell_type": "code",
   "execution_count": 58,
   "metadata": {},
   "outputs": [],
   "source": [
    "data_2017_outtake$outcome_weekday <- factor(data_2017_outtake$outcome_weekday,levels = c(\"Sunday\",\"Monday\",\"Tuesday\",\"Wednesday\",\"Thursday\",\"Friday\", \"Saturday\"))"
   ]
  },
  {
   "cell_type": "code",
   "execution_count": 61,
   "metadata": {},
   "outputs": [
    {
     "data": {
      "image/png": "[encoded data removed]",
      "text/plain": [
       "plot without title"
      ]
     },
     "metadata": {
      "image/png": {
       "height": 360,
       "width": 480
      },
      "text/plain": {
       "height": 360,
       "width": 480
      }
     },
     "output_type": "display_data"
    }
   ],
   "source": [
    "p <- ggplot(data_2017_outtake, aes(y=count, x=outcome_weekday)) + \n",
    "    geom_bar(position=\"dodge\", stat=\"identity\", fill=\"dodgerblue3\") +\n",
    "    labs(title = \"Average Animal Outtake by Week Day\", x = \"Week day\") +\n",
    "    theme(plot.title = element_text(size = 20, face = \"bold\",hjust = 0.5),\n",
    "         axis.text.x = element_text(size = 12, angle = 45),\n",
    "         axis.title.x = element_text(size = 20),\n",
    "         axis.title.y = element_text(size = 20),\n",
    "         axis.text.y = element_text(size = 14),\n",
    "         panel.background = element_blank()) \n",
    "        \n",
    "p"
   ]
  },
  {
   "cell_type": "code",
   "execution_count": null,
   "metadata": {},
   "outputs": [],
   "source": []
  }
 ],
 "metadata": {
  "kernelspec": {
   "display_name": "R",
   "language": "R",
   "name": "ir"
  },
  "language_info": {
   "codemirror_mode": "r",
   "file_extension": ".r",
   "mimetype": "text/x-r-source",
   "name": "R",
   "pygments_lexer": "r",
   "version": "3.6.1"
  }
 },
 "nbformat": 4,
 "nbformat_minor": 4
}
